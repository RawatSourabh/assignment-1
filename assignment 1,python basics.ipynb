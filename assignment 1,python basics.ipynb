{
 "cells": [
  {
   "cell_type": "markdown",
   "metadata": {},
   "source": [
    "1.1\n",
    " \n",
    " expressions:\n",
    "   * ,for multiplication\n",
    "   - , to subtract\n",
    "   \\ , to divide\n",
    "   + , to add\n",
    "   \n",
    " 1.2\n",
    "  \n",
    "    values:\n",
    "      .'hello', a string\n",
    " \n",
    "      .-87.8 , float type\n",
    " \n",
    "      .  6 , int type\n",
    "  "
   ]
  },
  {
   "cell_type": "markdown",
   "metadata": {},
   "source": [
    "2.\n",
    "VARIABLES,in python, are used to store values.\n",
    "\n",
    "STRING is a type of value, made up of charcters."
   ]
  },
  {
   "cell_type": "markdown",
   "metadata": {},
   "source": [
    "3 . Data types\n",
    "\n",
    "  integer type(int), it is a numerical value, positive or negative,but without the decimal. eg 3,445 etc\n",
    "  \n",
    "  float type, it is again a numerical value but with decimal. eg 10.0, 102.7 etc\n",
    "  \n",
    "  complex type, it stores numerical value that contains imaginary part, (j) is used to denote imaginary part of no., e.g -            10+34j , 0+39j etc"
   ]
  },
  {
   "cell_type": "markdown",
   "metadata": {},
   "source": [
    "4.  Expression in python is the combination of operators, and gives some values, after performing all the operations, as result.\n",
    "    eg - a + int(R) - 4"
   ]
  },
  {
   "cell_type": "markdown",
   "metadata": {},
   "source": [
    "5.    evaluats the operators and produce us a value. eg - a + 45.\n",
    "\n",
    "\n",
    "       Statements executes some task such as print, assigning some value to a variable etc. eg - spam = 10\n",
    "   \n",
    "   \n",
    "   \n"
   ]
  },
  {
   "cell_type": "markdown",
   "metadata": {},
   "source": [
    "6. bacon = 22\n",
    "\n",
    "   bacon + 1 \n",
    "   \n",
    "   \n",
    "      varible bacon contains 22, but result of the code is 23"
   ]
  },
  {
   "cell_type": "markdown",
   "metadata": {},
   "source": [
    "7.1 \" spam \" +  \"spamspam\" = spamspamspam\n",
    "\n",
    "\n",
    " 7.2   \"spam\" * 3 = spamspamspam"
   ]
  },
  {
   "cell_type": "markdown",
   "metadata": {},
   "source": [
    "8. variable names in python can only be start with a string or underscore(_), hence egg can be a variable name but not 100."
   ]
  },
  {
   "cell_type": "markdown",
   "metadata": {},
   "source": [
    "9.   Functions to extract int, float, or string version are \n",
    "     \n",
    "    int()\n",
    "    \n",
    "    str()\n",
    "    \n",
    "    float()\n",
    "    \n",
    "     "
   ]
  },
  {
   "cell_type": "markdown",
   "metadata": {},
   "source": [
    "10.  'i have eaten' + 99 + \"burritos\"\n",
    "this function cause error because 99 is a int form and can't be concatenate with \"i have \" and \"burritos\" as these are strings.\n",
    "correct code would be \n",
    "\"i have eaten\"+\"99\"+\"burritos\"\n",
    "as anything inside \"\" is considered as a string."
   ]
  },
  {
   "cell_type": "code",
   "execution_count": null,
   "metadata": {},
   "outputs": [],
   "source": []
  }
 ],
 "metadata": {
  "kernelspec": {
   "display_name": "Python 3",
   "language": "python",
   "name": "python3"
  },
  "language_info": {
   "codemirror_mode": {
    "name": "ipython",
    "version": 3
   },
   "file_extension": ".py",
   "mimetype": "text/x-python",
   "name": "python",
   "nbconvert_exporter": "python",
   "pygments_lexer": "ipython3",
   "version": "3.8.5"
  }
 },
 "nbformat": 4,
 "nbformat_minor": 4
}
